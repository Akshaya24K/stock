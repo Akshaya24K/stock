{
  "nbformat": 4,
  "nbformat_minor": 0,
  "metadata": {
    "colab": {
      "provenance": [],
      "authorship_tag": "ABX9TyMMMBcg2D8d4koGFIDbkLqB",
      "include_colab_link": true
    },
    "kernelspec": {
      "name": "python3",
      "display_name": "Python 3"
    },
    "language_info": {
      "name": "python"
    }
  },
  "cells": [
    {
      "cell_type": "markdown",
      "metadata": {
        "id": "view-in-github",
        "colab_type": "text"
      },
      "source": [
        "<a href=\"https://colab.research.google.com/github/Akshaya24K/stock/blob/main/MoMoIndia.ipynb\" target=\"_parent\"><img src=\"https://colab.research.google.com/assets/colab-badge.svg\" alt=\"Open In Colab\"/></a>"
      ]
    },
    {
      "cell_type": "code",
      "execution_count": 3,
      "metadata": {
        "colab": {
          "base_uri": "https://localhost:8080/"
        },
        "collapsed": true,
        "id": "Tww0AnZ2a0ZF",
        "outputId": "e7f82f52-9de0-45d9-b1f0-e98c7a87d633"
      },
      "outputs": [
        {
          "output_type": "stream",
          "name": "stdout",
          "text": [
            "       #                       Name      Ticker Price to Earnings  \\\n",
            "0      1                      TRENT       TRENT            161.58   \n",
            "1      2                  WOCKHARDT  WOCKPHARMA                 -   \n",
            "2      3                  INOX WIND    INOXWIND            488.23   \n",
            "3      4                  OIL INDIA         OIL             16.69   \n",
            "4      5                 BAJAJ AUTO  BAJAJ-AUTO             39.84   \n",
            "..   ...                        ...         ...               ...   \n",
            "295  296             AMBUJA CEMENTS   AMBUJACEM             34.81   \n",
            "296  297  KRISHNA INST OF MED SCI L        KIMS             59.54   \n",
            "297  298           LARSEN & TOUBRO.          LT             31.92   \n",
            "298  299         BALMER LAWRIE & CO  BALMLAWRIE             23.65   \n",
            "299  300  PARAS DEF AND SPCE TECH L       PARAS            126.61   \n",
            "\n",
            "     1 Yr Return  1 Yr Sharpe Return  Beta  1 Yr Volatility  Away from ATH  \\\n",
            "0         245.98                6.82  0.82            36.05          -2.53   \n",
            "1         338.48                6.07  1.19            55.79         -46.48   \n",
            "2         340.50                5.79  1.49            58.85          -6.79   \n",
            "3         264.70                5.73  1.33            46.16         -11.15   \n",
            "4         133.19                5.52  0.54            24.15          -1.71   \n",
            "..           ...                 ...   ...              ...            ...   \n",
            "295        42.46                1.25  1.71            33.89         -11.29   \n",
            "296        28.86                1.25  0.39            23.11          -1.41   \n",
            "297        33.58                1.25  1.40            26.78          -6.86   \n",
            "298        64.70                1.24  1.83            52.30         -13.65   \n",
            "299        63.48                1.24  1.29            51.30         -20.81   \n",
            "\n",
            "      MA 200  Last Close                               View  \n",
            "0    4328.32     7139.90                        View, TRENT  \n",
            "1     596.65     1069.90                    View, WOCKHARDT  \n",
            "2     139.61      220.91                    View, INOX WIND  \n",
            "3     407.35      682.25                    View, OIL INDIA  \n",
            "4    8443.42    10963.70                   View, BAJAJ AUTO  \n",
            "..       ...         ...                                ...  \n",
            "295   592.02      627.10               View, AMBUJA CEMENTS  \n",
            "296  2068.08     2616.65    View, KRISHNA INST OF MED SCI L  \n",
            "297  3524.81     3650.80             View, LARSEN & TOUBRO.  \n",
            "298   250.18      276.70           View, BALMER LAWRIE & CO  \n",
            "299   906.21     1261.20  View, PARAS DEF AND SPCE TECH L    \n",
            "\n",
            "[300 rows x 12 columns]\n"
          ]
        }
      ],
      "source": [
        "import pandas as pd\n",
        "df1 = pd.read_csv('Momoindia.csv', delimiter='\\t', header=0)\n",
        "df1 = df1.rename(columns={'Trading Symbol': 'Ticker'})\n",
        "print(df1)"
      ]
    },
    {
      "cell_type": "code",
      "source": [
        "df2 = pd.read_csv('TICKER_SECTOR_INDUSTRY_NSE.csv', delimiter='\\t',header=0)\n",
        "print(df2)"
      ],
      "metadata": {
        "colab": {
          "base_uri": "https://localhost:8080/"
        },
        "collapsed": true,
        "id": "LJarZ_2LbLRa",
        "outputId": "64b2bd38-7932-44a1-a4d5-e7d8bbd92f75"
      },
      "execution_count": 4,
      "outputs": [
        {
          "output_type": "stream",
          "name": "stdout",
          "text": [
            "         Ticker                     Description               Sector  \\\n",
            "0          LTIM                 LTIMINDTREE LTD  Commercial Services   \n",
            "1        GLOBAL            GLOBAL EDUCATION LTD  Commercial Services   \n",
            "2       VERANDA        VERANDA LEARNING SOL LTD  Commercial Services   \n",
            "3      AGRITECH               AGRI-TECH (INDIA)  Commercial Services   \n",
            "4         RITES                       RITES LTD  Commercial Services   \n",
            "...         ...                             ...                  ...   \n",
            "3741       RCCL  RAJASTHAN CYLINDERS & CONTAINE            Utilities   \n",
            "3742  WAAREERTL   WAAREE RENEWABLE TECHNOLOGIES            Utilities   \n",
            "3743      JAYCH         JAYSHREE CHEMICALS LTD.            Utilities   \n",
            "3744      RELTD         RAVINDRA ENERGY LIMITED            Utilities   \n",
            "3745  MADHAVIPL   MADHAV INFRA PROJECTS LIMITED            Utilities   \n",
            "\n",
            "                               Industry Exchange  \n",
            "0     Miscellaneous Commercial Services      NSE  \n",
            "1     Miscellaneous Commercial Services      NSE  \n",
            "2     Miscellaneous Commercial Services      NSE  \n",
            "3     Miscellaneous Commercial Services      NSE  \n",
            "4     Miscellaneous Commercial Services      NSE  \n",
            "...                                 ...      ...  \n",
            "3741                   Gas Distributors      BSE  \n",
            "3742       Alternative Power Generation      BSE  \n",
            "3743       Alternative Power Generation      BSE  \n",
            "3744       Alternative Power Generation      BSE  \n",
            "3745                 Electric Utilities      BSE  \n",
            "\n",
            "[3746 rows x 5 columns]\n"
          ]
        }
      ]
    },
    {
      "cell_type": "code",
      "source": [
        "merged_df = pd.merge(df1, df2[['Ticker', 'Sector', 'Industry']], on='Ticker', how='left')\n",
        "print(merged_df)"
      ],
      "metadata": {
        "colab": {
          "base_uri": "https://localhost:8080/"
        },
        "id": "x4G0VmD0bNgJ",
        "outputId": "6a369ded-579b-4a69-bc29-cf870a32c090"
      },
      "execution_count": 5,
      "outputs": [
        {
          "output_type": "stream",
          "name": "stdout",
          "text": [
            "       #                       Name      Ticker Price to Earnings  \\\n",
            "0      1                      TRENT       TRENT            161.58   \n",
            "1      2                  WOCKHARDT  WOCKPHARMA                 -   \n",
            "2      3                  INOX WIND    INOXWIND            488.23   \n",
            "3      4                  OIL INDIA         OIL             16.69   \n",
            "4      5                 BAJAJ AUTO  BAJAJ-AUTO             39.84   \n",
            "..   ...                        ...         ...               ...   \n",
            "295  296             AMBUJA CEMENTS   AMBUJACEM             34.81   \n",
            "296  297  KRISHNA INST OF MED SCI L        KIMS             59.54   \n",
            "297  298           LARSEN & TOUBRO.          LT             31.92   \n",
            "298  299         BALMER LAWRIE & CO  BALMLAWRIE             23.65   \n",
            "299  300  PARAS DEF AND SPCE TECH L       PARAS            126.61   \n",
            "\n",
            "     1 Yr Return  1 Yr Sharpe Return  Beta  1 Yr Volatility  Away from ATH  \\\n",
            "0         245.98                6.82  0.82            36.05          -2.53   \n",
            "1         338.48                6.07  1.19            55.79         -46.48   \n",
            "2         340.50                5.79  1.49            58.85          -6.79   \n",
            "3         264.70                5.73  1.33            46.16         -11.15   \n",
            "4         133.19                5.52  0.54            24.15          -1.71   \n",
            "..           ...                 ...   ...              ...            ...   \n",
            "295        42.46                1.25  1.71            33.89         -11.29   \n",
            "296        28.86                1.25  0.39            23.11          -1.41   \n",
            "297        33.58                1.25  1.40            26.78          -6.86   \n",
            "298        64.70                1.24  1.83            52.30         -13.65   \n",
            "299        63.48                1.24  1.29            51.30         -20.81   \n",
            "\n",
            "      MA 200  Last Close                               View  \\\n",
            "0    4328.32     7139.90                        View, TRENT   \n",
            "1     596.65     1069.90                    View, WOCKHARDT   \n",
            "2     139.61      220.91                    View, INOX WIND   \n",
            "3     407.35      682.25                    View, OIL INDIA   \n",
            "4    8443.42    10963.70                   View, BAJAJ AUTO   \n",
            "..       ...         ...                                ...   \n",
            "295   592.02      627.10               View, AMBUJA CEMENTS   \n",
            "296  2068.08     2616.65    View, KRISHNA INST OF MED SCI L   \n",
            "297  3524.81     3650.80             View, LARSEN & TOUBRO.   \n",
            "298   250.18      276.70           View, BALMER LAWRIE & CO   \n",
            "299   906.21     1261.20  View, PARAS DEF AND SPCE TECH L     \n",
            "\n",
            "                     Sector                     Industry  \n",
            "0              Retail Trade      Apparel/Footwear Retail  \n",
            "1         Health Technology       Pharmaceuticals: Major  \n",
            "2    Producer Manufacturing          Electrical Products  \n",
            "3           Energy Minerals       Oil Refining/Marketing  \n",
            "4                       NaN                          NaN  \n",
            "..                      ...                          ...  \n",
            "295     Non-Energy Minerals       Construction Materials  \n",
            "296         Health Services  Hospital/Nursing Management  \n",
            "297     Industrial Services   Engineering & Construction  \n",
            "298  Producer Manufacturing     Industrial Conglomerates  \n",
            "299   Electronic Technology          Aerospace & Defense  \n",
            "\n",
            "[300 rows x 14 columns]\n"
          ]
        }
      ]
    },
    {
      "cell_type": "markdown",
      "source": [
        "Write the output to an excel file"
      ],
      "metadata": {
        "id": "v6HvGTrQb1vD"
      }
    },
    {
      "cell_type": "code",
      "source": [
        "writer = pd.ExcelWriter('output.xlsx')\n",
        "merged_df.to_excel(writer, index=False)\n",
        "writer.close()"
      ],
      "metadata": {
        "id": "RccXEXFsb4tA"
      },
      "execution_count": 7,
      "outputs": []
    },
    {
      "cell_type": "markdown",
      "source": [],
      "metadata": {
        "id": "HYDJUg3o_Fd9"
      }
    },
    {
      "cell_type": "code",
      "source": [
        "\n",
        "\n",
        "# ... (Your existing code to create merged_df)\n",
        "\n",
        "# Group the merged dataframe by 'Sector' and 'Industry' and count tickers\n",
        "ticker_counts = merged_df.groupby(['Sector', 'Industry'])['Ticker'].count()\n",
        "\n",
        "# Print the ticker counts\n",
        "print(ticker_counts)"
      ],
      "metadata": {
        "colab": {
          "base_uri": "https://localhost:8080/"
        },
        "id": "Kdn3U25p_Ek-",
        "outputId": "dcffada6-a538-460f-d4a5-83cb6bb5ecdb"
      },
      "execution_count": 11,
      "outputs": [
        {
          "output_type": "stream",
          "name": "stdout",
          "text": [
            "Sector               Industry                         \n",
            "Commercial Services  Miscellaneous Commercial Services     4\n",
            "                     Personnel Services                    1\n",
            "Communications       Major Telecommunications              1\n",
            "                     Wireless Telecommunications           1\n",
            "Consumer Durables    Automotive Aftermarket                1\n",
            "                                                          ..\n",
            "Transportation       Marine Shipping                       2\n",
            "                     Other Transportation                  1\n",
            "Utilities            Alternative Power Generation          2\n",
            "                     Electric Utilities                   11\n",
            "                     Gas Distributors                      5\n",
            "Name: Ticker, Length: 71, dtype: int64\n"
          ]
        }
      ]
    },
    {
      "cell_type": "code",
      "source": [
        "\n",
        "# ... (Your existing code to create merged_df)\n",
        "\n",
        "# Group the merged dataframe by 'Sector' and 'Industry' and count tickers\n",
        "ticker_counts = merged_df.groupby(['Sector', 'Industry'])['Ticker'].count()\n",
        "\n",
        "# Sort the ticker counts by Sector in descending order\n",
        "ticker_counts_sorted = ticker_counts.sort_index(level='Sector', ascending=False)\n",
        "\n",
        "# Print the sorted ticker counts\n",
        "print(ticker_counts_sorted)"
      ],
      "metadata": {
        "colab": {
          "base_uri": "https://localhost:8080/"
        },
        "id": "buM9hgLW_gR1",
        "outputId": "4292ce64-5329-45a2-ca5c-ae292c1f1b9a"
      },
      "execution_count": 12,
      "outputs": [
        {
          "output_type": "stream",
          "name": "stdout",
          "text": [
            "Sector               Industry                         \n",
            "Utilities            Gas Distributors                      5\n",
            "                     Electric Utilities                   11\n",
            "                     Alternative Power Generation          2\n",
            "Transportation       Other Transportation                  1\n",
            "                     Marine Shipping                       2\n",
            "                                                          ..\n",
            "Consumer Durables    Automotive Aftermarket                1\n",
            "Communications       Wireless Telecommunications           1\n",
            "                     Major Telecommunications              1\n",
            "Commercial Services  Personnel Services                    1\n",
            "                     Miscellaneous Commercial Services     4\n",
            "Name: Ticker, Length: 71, dtype: int64\n"
          ]
        }
      ]
    },
    {
      "cell_type": "code",
      "source": [
        "with pd.option_context('display.max_rows', None):\n",
        "    print(ticker_counts_sorted)"
      ],
      "metadata": {
        "colab": {
          "base_uri": "https://localhost:8080/"
        },
        "id": "I4g_vTUS_tn8",
        "outputId": "9c7524e6-dadf-4398-e869-e77a059feba5"
      },
      "execution_count": 13,
      "outputs": [
        {
          "output_type": "stream",
          "name": "stdout",
          "text": [
            "Sector                  Industry                          \n",
            "Utilities               Gas Distributors                       5\n",
            "                        Electric Utilities                    11\n",
            "                        Alternative Power Generation           2\n",
            "Transportation          Other Transportation                   1\n",
            "                        Marine Shipping                        2\n",
            "                        Airlines                               1\n",
            "Technology Services     Packaged Software                      7\n",
            "                        Internet Software/Services             3\n",
            "                        Information Technology Services        7\n",
            "Retail Trade            Specialty Stores                       3\n",
            "                        Internet Retail                        1\n",
            "                        Catalog/Specialty Distribution         1\n",
            "                        Apparel/Footwear Retail                2\n",
            "Producer Manufacturing  Trucks/Construction/Farm Machinery     2\n",
            "                        Metal Fabrication                      3\n",
            "                        Industrial Machinery                   6\n",
            "                        Industrial Conglomerates               2\n",
            "                        Electrical Products                   12\n",
            "                        Building Products                      1\n",
            "                        Auto Parts: OEM                       11\n",
            "Process Industries      Textiles                               3\n",
            "                        Industrial Specialties                 6\n",
            "                        Containers/Packaging                   2\n",
            "                        Chemicals: Specialty                   7\n",
            "                        Chemicals: Agricultural                4\n",
            "                        Agricultural Commodities/Milling       5\n",
            "Non-Energy Minerals     Steel                                  5\n",
            "                        Other Metals/Minerals                  3\n",
            "                        Construction Materials                 4\n",
            "                        Aluminum                               2\n",
            "Industrial Services     Engineering & Construction            13\n",
            "Health Technology       Pharmaceuticals: Other                 4\n",
            "                        Pharmaceuticals: Major                26\n",
            "                        Medical Specialties                    1\n",
            "Health Services         Medical/Nursing Services               3\n",
            "                        Hospital/Nursing Management            4\n",
            "Finance                 Specialty Insurance                    2\n",
            "                        Regional Banks                         7\n",
            "                        Real Estate Development               11\n",
            "                        Multi-Line Insurance                   1\n",
            "                        Life/Health Insurance                  3\n",
            "                        Investment Managers                    5\n",
            "                        Investment Banks/Brokers               8\n",
            "                        Financial Conglomerates                2\n",
            "                        Finance/Rental/Leasing                11\n",
            "Energy Minerals         Oil Refining/Marketing                 8\n",
            "                        Integrated Oil                         1\n",
            "                        Coal                                   1\n",
            "Electronic Technology   Telecommunications Equipment           2\n",
            "                        Electronic Production Equipment        3\n",
            "                        Electronic Equipment/Instruments       2\n",
            "                        Aerospace & Defense                    3\n",
            "Distribution Services   Wholesale Distributors                 2\n",
            "Consumer Services       Movies/Entertainment                   1\n",
            "                        Hotels/Resorts/Cruise lines            2\n",
            "Consumer Non-Durables   Tobacco                                1\n",
            "                        Household/Personal Care                5\n",
            "                        Food: Specialty/Candy                  5\n",
            "                        Food: Meat/Fish/Dairy                  2\n",
            "                        Food: Major Diversified                2\n",
            "                        Beverages: Non-Alcoholic               1\n",
            "                        Beverages: Alcoholic                   1\n",
            "                        Apparel/Footwear                       1\n",
            "Consumer Durables       Motor Vehicles                         4\n",
            "                        Homebuilding                           2\n",
            "                        Electronics/Appliances                 2\n",
            "                        Automotive Aftermarket                 1\n",
            "Communications          Wireless Telecommunications            1\n",
            "                        Major Telecommunications               1\n",
            "Commercial Services     Personnel Services                     1\n",
            "                        Miscellaneous Commercial Services      4\n",
            "Name: Ticker, dtype: int64\n"
          ]
        }
      ]
    }
  ]
}